{
 "cells": [
  {
   "cell_type": "code",
   "execution_count": null,
   "metadata": {
    "collapsed": true
   },
   "outputs": [],
   "source": []
  },
  {
   "cell_type": "code",
   "execution_count": 18,
   "metadata": {
    "collapsed": false
   },
   "outputs": [
    {
     "data": {
      "text/plain": [
       "[u'data', u'metadata']"
      ]
     },
     "execution_count": 18,
     "metadata": {},
     "output_type": "execute_result"
    }
   ],
   "source": [
    "### convert string to dictionary\n",
    "\n",
    "dataDict.keys()\n",
    "#print dataDict.get('metadata')\n",
    "#print dataDict['metadata']['api_path_prefix']\n",
    "### change name of a key\n",
    "#dataDict['data'] = dataDict.pop(u'data')\n",
    "### explore dataDict a bit more (third child is a list of dictionaries)\n",
    "#print dataDict['data'][u'items'][0].keys()\n",
    "#print dataDict['data'][u'items'][0]"
   ]
  },
  {
   "cell_type": "code",
   "execution_count": 19,
   "metadata": {
    "collapsed": false
   },
   "outputs": [
    {
     "name": "stdout",
     "output_type": "stream",
     "text": [
      "[u'items', u'paging']\n"
     ]
    }
   ],
   "source": [
    "print dataDict['data'].keys()"
   ]
  },
  {
   "cell_type": "code",
   "execution_count": 20,
   "metadata": {
    "collapsed": false
   },
   "outputs": [
    {
     "name": "stdout",
     "output_type": "stream",
     "text": [
      "{u'total_items': 412099, u'current_page': 1, u'number_of_pages': 4121, u'prev_page_url': None, u'sort_order': u'created_at DESC', u'items_per_page': 100, u'next_page_url': u'https://api.crunchbase.com/v/3/organizations?page=2'}\n"
     ]
    }
   ],
   "source": [
    "print dataDict['data']['paging']"
   ]
  },
  {
   "cell_type": "code",
   "execution_count": 23,
   "metadata": {
    "collapsed": false
   },
   "outputs": [
    {
     "ename": "KeyError",
     "evalue": "('name', 'primary_role')",
     "output_type": "error",
     "traceback": [
      "\u001b[0;31m---------------------------------------------------------------------------\u001b[0m",
      "\u001b[0;31mKeyError\u001b[0m                                  Traceback (most recent call last)",
      "\u001b[0;32m<ipython-input-23-73c579e412f5>\u001b[0m in \u001b[0;36m<module>\u001b[0;34m()\u001b[0m\n\u001b[0;32m----> 1\u001b[0;31m \u001b[0;32mprint\u001b[0m \u001b[0mdataDict\u001b[0m\u001b[0;34m[\u001b[0m\u001b[0;34m'data'\u001b[0m\u001b[0;34m]\u001b[0m\u001b[0;34m[\u001b[0m\u001b[0;34m'items'\u001b[0m\u001b[0;34m]\u001b[0m\u001b[0;34m[\u001b[0m\u001b[0;36m0\u001b[0m\u001b[0;34m]\u001b[0m\u001b[0;34m[\u001b[0m\u001b[0;34m'properties'\u001b[0m\u001b[0;34m]\u001b[0m\u001b[0;34m[\u001b[0m\u001b[0;34m'name'\u001b[0m\u001b[0;34m,\u001b[0m\u001b[0;34m'primary_role'\u001b[0m\u001b[0;34m]\u001b[0m\u001b[0;34m\u001b[0m\u001b[0m\n\u001b[0m",
      "\u001b[0;31mKeyError\u001b[0m: ('name', 'primary_role')"
     ]
    }
   ],
   "source": [
    "print dataDict['data']['items'][0]['properties']['name','primary_role']"
   ]
  },
  {
   "cell_type": "code",
   "execution_count": 29,
   "metadata": {
    "collapsed": false
   },
   "outputs": [],
   "source": [
    "new_dict = {k: dataDict['data']['items'][0]['properties'][k] for k in ('name', 'primary_role')}\n",
    "propDict = dataDict['data']['items'][0]['properties']"
   ]
  },
  {
   "cell_type": "code",
   "execution_count": 26,
   "metadata": {
    "collapsed": false
   },
   "outputs": [
    {
     "name": "stdout",
     "output_type": "stream",
     "text": [
      "{'primary_role': u'company', 'name': u'Peekchat'}\n"
     ]
    }
   ],
   "source": [
    "print new_dict"
   ]
  },
  {
   "cell_type": "code",
   "execution_count": 30,
   "metadata": {
    "collapsed": false
   },
   "outputs": [
    {
     "data": {
      "text/plain": [
       "{'created_at': 1448994261,\n",
       " 'domain': None,\n",
       " 'linkedin_url': None,\n",
       " 'name': u'Peekchat',\n",
       " 'primary_role': u'company',\n",
       " 'updated_at': 1448994262}"
      ]
     },
     "execution_count": 30,
     "metadata": {},
     "output_type": "execute_result"
    }
   ],
   "source": [
    "## or\n",
    "wanted_keys = ['name', 'primary_role', 'linkedin_url', 'created_at','updated_at','domain' ] # The keys you want\n",
    "dict([(i, propDict[i]) for i in wanted_keys if i in propDict])"
   ]
  },
  {
   "cell_type": "code",
   "execution_count": 38,
   "metadata": {
    "collapsed": false
   },
   "outputs": [],
   "source": [
    "biglist = []\n",
    "wanted_keys = ['name', 'primary_role', 'linkedin_url', 'created_at','updated_at','domain' ]\n",
    "# 100 companies on first page.\n",
    "for company in range(99):\n",
    "# create subset dictionary = property dictionary in items for particular company\n",
    "    propDict = dataDict['data']['items'][company]['properties']\n",
    "    temp = dict([(i, propDict[i]) for i in wanted_keys if i in propDict])\n",
    "    # append dictionary to list of dictionaries\n",
    "    biglist.append(dict(temp))\n"
   ]
  },
  {
   "cell_type": "code",
   "execution_count": 57,
   "metadata": {
    "collapsed": false
   },
   "outputs": [
    {
     "name": "stdout",
     "output_type": "stream",
     "text": [
      "4122\n"
     ]
    }
   ],
   "source": [
    "last_page = dataDict['data']['paging']['number_of_pages']\n",
    "print last_page"
   ]
  },
  {
   "cell_type": "code",
   "execution_count": 58,
   "metadata": {
    "collapsed": false
   },
   "outputs": [],
   "source": [
    "biglist = []\n",
    "wanted_keys = ['name', 'primary_role', 'linkedin_url', 'created_at','updated_at','domain' ]\n",
    "# there's pagination. \n",
    "last_page = dataDict['data']['paging']['number_of_pages']\n",
    "for p in range(1,last_page):\n",
    "# loop through pages\n",
    "    url = 'https://api.crunchbase.com/v/3/organizations?user_key=d0f2a6563e370f7aea5be58efd903109&page=p'\n",
    "    data = urllib2.urlopen(url).read()\n",
    "    dataDict = json.loads(data)\n",
    "# of dictionaries on page\n",
    "obs = len(propDict = dataDict['data']['items']\n",
    "    for company in range(1,obs):\n",
    "    # create subset dictionary = property dictionary in items for particular company\n",
    "        propDict = dataDict['data']['items'][company]['properties']\n",
    "        temp = dict([(i, propDict[i]) for i in wanted_keys if i in propDict])\n",
    "        # append dictionary to list of dictionaries\n",
    "        biglist.append(dict(temp))"
   ]
  },
  {
   "cell_type": "code",
   "execution_count": 59,
   "metadata": {
    "collapsed": false
   },
   "outputs": [
    {
     "name": "stdout",
     "output_type": "stream",
     "text": [
      "407979\n"
     ]
    }
   ],
   "source": [
    "print len(biglist)"
   ]
  },
  {
   "cell_type": "code",
   "execution_count": null,
   "metadata": {
    "collapsed": true
   },
   "outputs": [],
   "source": [
    "#### Next get exit types"
   ]
  }
 ],
 "metadata": {
  "kernelspec": {
   "display_name": "Python 2",
   "language": "python",
   "name": "python2"
  },
  "language_info": {
   "codemirror_mode": {
    "name": "ipython",
    "version": 2
   },
   "file_extension": ".py",
   "mimetype": "text/x-python",
   "name": "python",
   "nbconvert_exporter": "python",
   "pygments_lexer": "ipython2",
   "version": "2.7.10"
  }
 },
 "nbformat": 4,
 "nbformat_minor": 0
}
